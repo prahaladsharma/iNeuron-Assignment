{
 "cells": [
  {
   "cell_type": "code",
   "execution_count": 1,
   "metadata": {},
   "outputs": [
    {
     "name": "stdout",
     "output_type": "stream",
     "text": [
      "2030,2065,2100,2135,2170,2205,2240,2275,2310,2345,2380,2415,2450,2485,2520,2555,2590,2625,2660,2695,2730,2765,2800,2835,2870,2905,2940,2975,3010,3045,3080,3115,3150,3185\n"
     ]
    }
   ],
   "source": [
    " # Assignment 1\",\n",
    " # 1. Write a program which will find all such numbers which are divisible by 7 but are not a multiple of 5, between 2000 and and 3200 (both included). The numbers obtained should be printed in a comma-separated sequence on a single line. \" \n",
    "    \n",
    "num=[]\n",
    "for x in range(2000, 3200):\n",
    "    if (x%7==0) and (x%5==0):\n",
    "        num.append(str(x))\n",
    "print (','.join(num))"
   ]
  },
  {
   "cell_type": "code",
   "execution_count": 2,
   "metadata": {},
   "outputs": [
    {
     "name": "stdout",
     "output_type": "stream",
     "text": [
      "Enter your first name: prahalad\n",
      "Enter your last name: sharma\n",
      "sharma prahalad\n"
     ]
    }
   ],
   "source": [
    "# Assignment 2\n",
    "# 2. Write a Python program to accept the user's first and last name and then getting them printed in the the reverse order with a space between first name and last name\n",
    "\n",
    "# Solutions\n",
    "fName = input(\"Enter your first name: \")\n",
    "lName = input(\"Enter your last name: \")\n",
    "print (lName + \" \" + fName)"
   ]
  },
  {
   "cell_type": "code",
   "execution_count": 3,
   "metadata": {},
   "outputs": [
    {
     "name": "stdout",
     "output_type": "stream",
     "text": [
      "The volume of the sphere is:  904.7786842338603\n"
     ]
    }
   ],
   "source": [
    "# Assignment 3\n",
    "# 3. Write a Python program to find the volume of a sphere with diameter 12 cm. \n",
    "\n",
    "# Solutions\n",
    "pi = 3.1415926535897931\n",
    "r = 6.0\n",
    "value = 4.0/3.0*pi* r**3\n",
    "print('The volume of the sphere is: ', value)"
   ]
  },
  {
   "cell_type": "code",
   "execution_count": 4,
   "metadata": {},
   "outputs": [
    {
     "name": "stdout",
     "output_type": "stream",
     "text": [
      "Enter digits for comma seprated :  5 9 7 5 3\n",
      "List :  [' 5 9 7 5 3']\n",
      "Tuple :  (' 5 9 7 5 3',)\n"
     ]
    }
   ],
   "source": [
    "# Assignment 4\n",
    "# 4. Write a program which accepts a sequence of comma-separated numbers from console and generate a list.\n",
    "\n",
    "# Solution\n",
    "values = input(\"Enter digits for comma seprated : \")\n",
    "list = values.split(\",\")\n",
    "tuple = tuple(list)\n",
    "print('List : ',list)\n",
    "print('Tuple : ',tuple)"
   ]
  },
  {
   "cell_type": "code",
   "execution_count": 5,
   "metadata": {},
   "outputs": [
    {
     "name": "stdout",
     "output_type": "stream",
     "text": [
      "* \r\n",
      "* * \r\n",
      "* * * \r\n",
      "* * * * \r\n",
      "* * * * * \r\n",
      "* * * * \r\n",
      "* * * \r\n",
      "* * \r\n",
      "* \r\n",
      "\r\n"
     ]
    }
   ],
   "source": [
    "# Assignment 5\n",
    "# 5. Create the below pattern using nested for loop in Python.\n",
    "# Solution\n",
    "\n",
    "\n",
    "for i in range (0, 5):\n",
    "    for j in range(0, i + 1):\n",
    "        print(\"*\", end=' ')\n",
    "    print(\"\\r\")\n",
    "\n",
    "for i in range (5, 0, -1):\n",
    "    for j in range(0, i -1):\n",
    "        print(\"*\", end=' ')\n",
    "    print(\"\\r\")"
   ]
  },
  {
   "cell_type": "code",
   "execution_count": 6,
   "metadata": {},
   "outputs": [
    {
     "name": "stdout",
     "output_type": "stream",
     "text": [
      "Enter a word to reverse: Machine\n",
      "enihcaM\n",
      "\n"
     ]
    }
   ],
   "source": [
    "# Assignment 6\n",
    "# 6. Write a Python program to reverse a word after accepting the input from the user.\n",
    "\n",
    "# Solution\n",
    "revWord = input(\"Enter a word to reverse: \")\n",
    "for char in range(len(revWord) - 1, -1, -1):\n",
    "  print(revWord[char], end=\"\")\n",
    "print(\"\\n\")"
   ]
  },
  {
   "cell_type": "code",
   "execution_count": 7,
   "metadata": {},
   "outputs": [
    {
     "data": {
      "text/plain": [
       "' WE, THE PEOPLE OF INDIA,   having solemnly resolved to constitute India into a SOVEREIGN, !  SOCIALIST, SECULAR, DEMOCRATIC REPUBLIC    and to secure to all its citizens  \\n'"
      ]
     },
     "execution_count": 7,
     "metadata": {},
     "output_type": "execute_result"
    }
   ],
   "source": [
    "# Assignment 7\n",
    "# \"7. Write a Python Program to print the given string in the format specified in the sample output. \\n\",\n",
    "# \" WE, THE PEOPLE OF INDIA, having solemnly resolved to constitute India into a SOVEREIGN, SOCIALIST, SECULAR, DEMOCRATIC REPUBLIC and to secure to all its citizens  \\n\"\n",
    "\n",
    "# Solutions\n",
    "str = \" WE, THE PEOPLE OF INDIA,   having solemnly resolved to constitute India into a SOVEREIGN,\" + ' ! ' + \" SOCIALIST, SECULAR, DEMOCRATIC REPUBLIC    and to secure to all its citizens  \\n\" \n",
    "str"
   ]
  },
  {
   "cell_type": "code",
   "execution_count": null,
   "metadata": {},
   "outputs": [],
   "source": []
  }
 ],
 "metadata": {
  "kernelspec": {
   "display_name": "Python 3",
   "language": "python",
   "name": "python3"
  },
  "language_info": {
   "codemirror_mode": {
    "name": "ipython",
    "version": 3
   },
   "file_extension": ".py",
   "mimetype": "text/x-python",
   "name": "python",
   "nbconvert_exporter": "python",
   "pygments_lexer": "ipython3",
   "version": "3.7.3"
  }
 },
 "nbformat": 4,
 "nbformat_minor": 2
}
