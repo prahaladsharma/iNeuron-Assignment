{
 "cells": [
  {
   "cell_type": "markdown",
   "metadata": {},
   "source": [
    "# Assignment 4 Questions"
   ]
  },
  {
   "cell_type": "markdown",
   "metadata": {},
   "source": [
    "## Problem Statement"
   ]
  },
  {
   "cell_type": "markdown",
   "metadata": {},
   "source": [
    "Q.1 Given a sequence of n values x1, x2, ..., xn and a window size k>0, the k-th moving average of\n",
    "the given sequence is defined as follows:\n",
    "\n",
    "The moving average sequence has n-k+1 elements as shown below.\n",
    "The moving averages with k=4 of a ten-value sequence (n=10) is shown below\n",
    "\n",
    "    i 1 2 3 4 5 6 7 8 9 10\n",
    "    ===== == == == == == == == == == ==\n",
    "    Input 10 20 30 40 50 60 70 80 90 100\n",
    "    y1 25 = (10+20+30+40)/4\n",
    "    y2 35 = (20+30+40+50)/4\n",
    "    y3 45 = (30+40+50+60)/4\n",
    "    y4 55 = (40+50+60+70)/4\n",
    "    y5 65 = (50+60+70+80)/4\n",
    "    y6 75 = (60+70+80+90)/4\n",
    "    y7 85 = (70+80+90+100)/4\n",
    "\n",
    "Thus, the moving average sequence has n-k+1=10-4+1=7 values.\n",
    "\n",
    "Write a function to find moving average in an array over a window:\n",
    "\n",
    "Test it over [3, 5, 7, 2, 8, 10, 11, 65, 72, 81, 99, 100, 150] and window of 3."
   ]
  },
  {
   "cell_type": "code",
   "execution_count": 1,
   "metadata": {},
   "outputs": [
    {
     "name": "stdout",
     "output_type": "stream",
     "text": [
      "[  5.     4.67   5.67   6.67   9.67  28.67  49.33  72.67  84.    93.33\n",
      " 116.33]\n"
     ]
    }
   ],
   "source": [
    "import numpy as np\n",
    "def moving_average(a, n=4):\n",
    "    asum = np.cumsum(a, dtype=float)\n",
    "    asum[n:] = asum[n:] - asum[:-n]\n",
    "    return asum[n-1:]/n\n",
    "\n",
    "arr = [3, 5, 7, 2, 8, 10, 11, 65, 72, 81, 99, 100, 150]\n",
    "#print(arr)\n",
    "\n",
    "print(np.array(moving_average(arr,n=3)).round(2))"
   ]
  },
  {
   "cell_type": "markdown",
   "metadata": {},
   "source": [
    "Q.2 How-to-count-distance-to-the-previous-zero\n",
    "For each value, count the difference back to the previous zero (or the start of the Series,\n",
    "whichever is closer)\n",
    "create a new column 'Y'\n",
    "Consider a DataFrame df where there is an integer column 'X'\n",
    "    \n",
    "    import pandas as pd\n",
    "    df = pd.DataFrame({'X': [7, 2, 0, 3, 4, 2, 5, 0, 3, 4]})"
   ]
  },
  {
   "cell_type": "code",
   "execution_count": 2,
   "metadata": {},
   "outputs": [
    {
     "data": {
      "text/plain": [
       "[1, 2, 0, 1, 2, 3, 4, 0, 1, 2]"
      ]
     },
     "execution_count": 2,
     "metadata": {},
     "output_type": "execute_result"
    }
   ],
   "source": [
    "import pandas as pd\n",
    "series = pd.Series([7, 2, 0, 3, 4, 2, 5, 0, 3, 4])\n",
    "(series.groupby(series.eq(0).cumsum().mask(series.eq(0))).cumcount() + 1).mask(series.eq(0), 0).tolist()"
   ]
  },
  {
   "cell_type": "markdown",
   "metadata": {},
   "source": [
    "Q.3 Create a DatetimeIndex that contains each business day of 2015 and use it to index a Series of\n",
    "random numbers."
   ]
  },
  {
   "cell_type": "code",
   "execution_count": 3,
   "metadata": {},
   "outputs": [
    {
     "name": "stdout",
     "output_type": "stream",
     "text": [
      " 2015 Calendar \n",
      " 2015-01-01    0.761495\n",
      "2015-01-02    0.212676\n",
      "2015-01-03    0.010653\n",
      "2015-01-04    0.650232\n",
      "2015-01-05    0.916388\n",
      "2015-01-06    0.951528\n",
      "2015-01-07    0.306899\n",
      "2015-01-08    0.808568\n",
      "2015-01-09    0.310829\n",
      "2015-01-10    0.629511\n",
      "2015-01-11    0.192805\n",
      "2015-01-12    0.981781\n",
      "2015-01-13    0.746862\n",
      "2015-01-14    0.442585\n",
      "2015-01-15    0.650225\n",
      "2015-01-16    0.987293\n",
      "2015-01-17    0.835917\n",
      "2015-01-18    0.058323\n",
      "2015-01-19    0.017961\n",
      "2015-01-20    0.067628\n",
      "2015-01-21    0.658057\n",
      "2015-01-22    0.073727\n",
      "2015-01-23    0.685869\n",
      "2015-01-24    0.934648\n",
      "2015-01-25    0.740361\n",
      "2015-01-26    0.012385\n",
      "2015-01-27    0.529394\n",
      "2015-01-28    0.137975\n",
      "2015-01-29    0.625864\n",
      "2015-01-30    0.123149\n",
      "                ...   \n",
      "2015-12-02    0.690431\n",
      "2015-12-03    0.311884\n",
      "2015-12-04    0.751851\n",
      "2015-12-05    0.860672\n",
      "2015-12-06    0.325403\n",
      "2015-12-07    0.773143\n",
      "2015-12-08    0.914900\n",
      "2015-12-09    0.244370\n",
      "2015-12-10    0.684043\n",
      "2015-12-11    0.181027\n",
      "2015-12-12    0.984929\n",
      "2015-12-13    0.043644\n",
      "2015-12-14    0.520655\n",
      "2015-12-15    0.408374\n",
      "2015-12-16    0.415694\n",
      "2015-12-17    0.686927\n",
      "2015-12-18    0.542497\n",
      "2015-12-19    0.874454\n",
      "2015-12-20    0.039283\n",
      "2015-12-21    0.670537\n",
      "2015-12-22    0.910627\n",
      "2015-12-23    0.273215\n",
      "2015-12-24    0.777591\n",
      "2015-12-25    0.756696\n",
      "2015-12-26    0.351159\n",
      "2015-12-27    0.694112\n",
      "2015-12-28    0.326444\n",
      "2015-12-29    0.846414\n",
      "2015-12-30    0.790682\n",
      "2015-12-31    0.009304\n",
      "Freq: D, Length: 365, dtype: float64\n"
     ]
    }
   ],
   "source": [
    "import numpy as np\n",
    "import pandas as pd\n",
    "dates= pd.date_range('2015-01-01', '2015-12-31')\n",
    "series = pd.Series(np.random.rand(dates.shape[0]),  index = dates)\n",
    "print(' 2015 Calendar \\n', series)"
   ]
  },
  {
   "cell_type": "markdown",
   "metadata": {},
   "source": [
    "Q.4 "
   ]
  }
 ],
 "metadata": {
  "kernelspec": {
   "display_name": "Python 3",
   "language": "python",
   "name": "python3"
  },
  "language_info": {
   "codemirror_mode": {
    "name": "ipython",
    "version": 3
   },
   "file_extension": ".py",
   "mimetype": "text/x-python",
   "name": "python",
   "nbconvert_exporter": "python",
   "pygments_lexer": "ipython3",
   "version": "3.7.3"
  }
 },
 "nbformat": 4,
 "nbformat_minor": 2
}
